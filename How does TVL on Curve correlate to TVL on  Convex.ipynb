{
 "cells": [
  {
   "cell_type": "markdown",
   "id": "5e4b2283",
   "metadata": {},
   "source": [
    "# How does TVL on Curve correlate to TVL on Convex?"
   ]
  },
  {
   "cell_type": "markdown",
   "id": "66468e58",
   "metadata": {},
   "source": [
    "In this analysis, we will be looking at the TVL (total value locked) defined as the amount of assets that are in a protocol at a given time for both Curve and Convex Finance. The main objective will be if the two protocols TVL correlate. This is a bount submission for MetricsDAO. Date range is from the launch of Convex. (0 equals first day Convex launch, 250 equals 249th day Convex has been live)"
   ]
  },
  {
   "cell_type": "code",
   "execution_count": 216,
   "id": "69e20ca6",
   "metadata": {},
   "outputs": [],
   "source": [
    "#python packages\n",
    "import pandas as pd\n",
    "import numpy as np\n",
    "import seaborn as sns\n",
    "from statsmodels.tsa.stattools import adfuller"
   ]
  },
  {
   "cell_type": "markdown",
   "id": "580c5dc2",
   "metadata": {},
   "source": [
    "Inputting source data from excel files downloaded of Defi Llama"
   ]
  },
  {
   "cell_type": "code",
   "execution_count": 217,
   "id": "0f716e02",
   "metadata": {},
   "outputs": [],
   "source": [
    "#Data is source from Defi llama 2/17/2022 for TVL - total and ETH (not including staking)\n",
    "#Input file can be found in my github\n",
    "df_convex = pd.read_excel('TVL.xlsx',sheet_name = 'Convex')\n",
    "df_curve = pd.read_excel('TVL.xlsx',sheet_name = 'Curve')\n",
    "df_aave  =pd.read_excel('TVL.xlsx',sheet_name = 'Aave')\n",
    "df_uniswap = pd.read_excel('TVL.xlsx', sheet_name = 'Uniswap')\n",
    "df_compound = pd.read_excel('TVL.xlsx',sheet_name = 'Compound')\n",
    "df_maker = pd.read_excel('TVL.xlsx',sheet_name = 'MakerDAO' )\n",
    "df_yearn = pd.read_excel('TVL.xlsx',sheet_name = 'Yearn')"
   ]
  },
  {
   "cell_type": "markdown",
   "id": "17091a69",
   "metadata": {},
   "source": [
    "Looking at convex variables"
   ]
  },
  {
   "cell_type": "code",
   "execution_count": 218,
   "id": "472bb2cf",
   "metadata": {
    "scrolled": true
   },
   "outputs": [
    {
     "data": {
      "text/html": [
       "<div>\n",
       "<style scoped>\n",
       "    .dataframe tbody tr th:only-of-type {\n",
       "        vertical-align: middle;\n",
       "    }\n",
       "\n",
       "    .dataframe tbody tr th {\n",
       "        vertical-align: top;\n",
       "    }\n",
       "\n",
       "    .dataframe thead th {\n",
       "        text-align: right;\n",
       "    }\n",
       "</style>\n",
       "<table border=\"1\" class=\"dataframe\">\n",
       "  <thead>\n",
       "    <tr style=\"text-align: right;\">\n",
       "      <th></th>\n",
       "      <th>Date</th>\n",
       "      <th>Convex Finance</th>\n",
       "      <th>Convex Finance (Staking)</th>\n",
       "    </tr>\n",
       "  </thead>\n",
       "  <tbody>\n",
       "    <tr>\n",
       "      <th>0</th>\n",
       "      <td>17/05/2021</td>\n",
       "      <td>6.887735e+07</td>\n",
       "      <td>NaN</td>\n",
       "    </tr>\n",
       "    <tr>\n",
       "      <th>1</th>\n",
       "      <td>18/05/2021</td>\n",
       "      <td>7.133614e+07</td>\n",
       "      <td>NaN</td>\n",
       "    </tr>\n",
       "    <tr>\n",
       "      <th>2</th>\n",
       "      <td>19/05/2021</td>\n",
       "      <td>2.050221e+08</td>\n",
       "      <td>NaN</td>\n",
       "    </tr>\n",
       "    <tr>\n",
       "      <th>3</th>\n",
       "      <td>20/05/2021</td>\n",
       "      <td>1.905626e+08</td>\n",
       "      <td>NaN</td>\n",
       "    </tr>\n",
       "    <tr>\n",
       "      <th>4</th>\n",
       "      <td>21/05/2021</td>\n",
       "      <td>2.030479e+08</td>\n",
       "      <td>NaN</td>\n",
       "    </tr>\n",
       "    <tr>\n",
       "      <th>...</th>\n",
       "      <td>...</td>\n",
       "      <td>...</td>\n",
       "      <td>...</td>\n",
       "    </tr>\n",
       "    <tr>\n",
       "      <th>273</th>\n",
       "      <td>14/02/2022</td>\n",
       "      <td>1.340566e+10</td>\n",
       "      <td>9.896934e+08</td>\n",
       "    </tr>\n",
       "    <tr>\n",
       "      <th>274</th>\n",
       "      <td>15/02/2022</td>\n",
       "      <td>1.336981e+10</td>\n",
       "      <td>1.033049e+09</td>\n",
       "    </tr>\n",
       "    <tr>\n",
       "      <th>275</th>\n",
       "      <td>16/02/2022</td>\n",
       "      <td>1.375010e+10</td>\n",
       "      <td>1.157161e+09</td>\n",
       "    </tr>\n",
       "    <tr>\n",
       "      <th>276</th>\n",
       "      <td>17/02/2022</td>\n",
       "      <td>1.370827e+10</td>\n",
       "      <td>1.199036e+09</td>\n",
       "    </tr>\n",
       "    <tr>\n",
       "      <th>277</th>\n",
       "      <td>18/02/2022</td>\n",
       "      <td>1.350186e+10</td>\n",
       "      <td>1.080461e+09</td>\n",
       "    </tr>\n",
       "  </tbody>\n",
       "</table>\n",
       "<p>278 rows × 3 columns</p>\n",
       "</div>"
      ],
      "text/plain": [
       "           Date  Convex Finance  Convex Finance (Staking)\n",
       "0    17/05/2021    6.887735e+07                       NaN\n",
       "1    18/05/2021    7.133614e+07                       NaN\n",
       "2    19/05/2021    2.050221e+08                       NaN\n",
       "3    20/05/2021    1.905626e+08                       NaN\n",
       "4    21/05/2021    2.030479e+08                       NaN\n",
       "..          ...             ...                       ...\n",
       "273  14/02/2022    1.340566e+10              9.896934e+08\n",
       "274  15/02/2022    1.336981e+10              1.033049e+09\n",
       "275  16/02/2022    1.375010e+10              1.157161e+09\n",
       "276  17/02/2022    1.370827e+10              1.199036e+09\n",
       "277  18/02/2022    1.350186e+10              1.080461e+09\n",
       "\n",
       "[278 rows x 3 columns]"
      ]
     },
     "execution_count": 218,
     "metadata": {},
     "output_type": "execute_result"
    }
   ],
   "source": [
    "df_convex"
   ]
  },
  {
   "cell_type": "code",
   "execution_count": 219,
   "id": "068c0f86",
   "metadata": {},
   "outputs": [
    {
     "data": {
      "text/html": [
       "<div>\n",
       "<style scoped>\n",
       "    .dataframe tbody tr th:only-of-type {\n",
       "        vertical-align: middle;\n",
       "    }\n",
       "\n",
       "    .dataframe tbody tr th {\n",
       "        vertical-align: top;\n",
       "    }\n",
       "\n",
       "    .dataframe thead th {\n",
       "        text-align: right;\n",
       "    }\n",
       "</style>\n",
       "<table border=\"1\" class=\"dataframe\">\n",
       "  <thead>\n",
       "    <tr style=\"text-align: right;\">\n",
       "      <th></th>\n",
       "      <th>Date</th>\n",
       "      <th>Curve</th>\n",
       "      <th>Curve-ETH</th>\n",
       "    </tr>\n",
       "  </thead>\n",
       "  <tbody>\n",
       "    <tr>\n",
       "      <th>0</th>\n",
       "      <td>2020-09-02 00:00:00</td>\n",
       "      <td>1.163733e+06</td>\n",
       "      <td>1.163733e+06</td>\n",
       "    </tr>\n",
       "    <tr>\n",
       "      <th>1</th>\n",
       "      <td>2020-10-02 00:00:00</td>\n",
       "      <td>1.372110e+06</td>\n",
       "      <td>1.372110e+06</td>\n",
       "    </tr>\n",
       "    <tr>\n",
       "      <th>2</th>\n",
       "      <td>2020-11-02 00:00:00</td>\n",
       "      <td>9.607534e+05</td>\n",
       "      <td>9.607534e+05</td>\n",
       "    </tr>\n",
       "    <tr>\n",
       "      <th>3</th>\n",
       "      <td>2020-12-02 00:00:00</td>\n",
       "      <td>1.006408e+06</td>\n",
       "      <td>1.006408e+06</td>\n",
       "    </tr>\n",
       "    <tr>\n",
       "      <th>4</th>\n",
       "      <td>13/02/2020</td>\n",
       "      <td>1.258776e+06</td>\n",
       "      <td>1.258776e+06</td>\n",
       "    </tr>\n",
       "    <tr>\n",
       "      <th>...</th>\n",
       "      <td>...</td>\n",
       "      <td>...</td>\n",
       "      <td>...</td>\n",
       "    </tr>\n",
       "    <tr>\n",
       "      <th>736</th>\n",
       "      <td>14/02/2022</td>\n",
       "      <td>1.954831e+10</td>\n",
       "      <td>1.683822e+10</td>\n",
       "    </tr>\n",
       "    <tr>\n",
       "      <th>737</th>\n",
       "      <td>15/02/2022</td>\n",
       "      <td>1.943360e+10</td>\n",
       "      <td>1.672073e+10</td>\n",
       "    </tr>\n",
       "    <tr>\n",
       "      <th>738</th>\n",
       "      <td>16/02/2022</td>\n",
       "      <td>1.987663e+10</td>\n",
       "      <td>1.717675e+10</td>\n",
       "    </tr>\n",
       "    <tr>\n",
       "      <th>739</th>\n",
       "      <td>17/02/2022</td>\n",
       "      <td>1.986333e+10</td>\n",
       "      <td>1.715089e+10</td>\n",
       "    </tr>\n",
       "    <tr>\n",
       "      <th>740</th>\n",
       "      <td>18/02/2022</td>\n",
       "      <td>1.948774e+10</td>\n",
       "      <td>1.683862e+10</td>\n",
       "    </tr>\n",
       "  </tbody>\n",
       "</table>\n",
       "<p>741 rows × 3 columns</p>\n",
       "</div>"
      ],
      "text/plain": [
       "                    Date         Curve     Curve-ETH\n",
       "0    2020-09-02 00:00:00  1.163733e+06  1.163733e+06\n",
       "1    2020-10-02 00:00:00  1.372110e+06  1.372110e+06\n",
       "2    2020-11-02 00:00:00  9.607534e+05  9.607534e+05\n",
       "3    2020-12-02 00:00:00  1.006408e+06  1.006408e+06\n",
       "4             13/02/2020  1.258776e+06  1.258776e+06\n",
       "..                   ...           ...           ...\n",
       "736           14/02/2022  1.954831e+10  1.683822e+10\n",
       "737           15/02/2022  1.943360e+10  1.672073e+10\n",
       "738           16/02/2022  1.987663e+10  1.717675e+10\n",
       "739           17/02/2022  1.986333e+10  1.715089e+10\n",
       "740           18/02/2022  1.948774e+10  1.683862e+10\n",
       "\n",
       "[741 rows x 3 columns]"
      ]
     },
     "execution_count": 219,
     "metadata": {},
     "output_type": "execute_result"
    }
   ],
   "source": [
    "df_curve"
   ]
  },
  {
   "cell_type": "markdown",
   "id": "80f088c9",
   "metadata": {},
   "source": [
    "# Curve & Convex TVL"
   ]
  },
  {
   "cell_type": "markdown",
   "id": "cc7d9b8f",
   "metadata": {},
   "source": [
    "### TVL for Curve"
   ]
  },
  {
   "cell_type": "code",
   "execution_count": 220,
   "id": "a4992bbe",
   "metadata": {},
   "outputs": [
    {
     "data": {
      "text/plain": [
       "<AxesSubplot:>"
      ]
     },
     "execution_count": 220,
     "metadata": {},
     "output_type": "execute_result"
    },
    {
     "data": {
      "image/png": "[encoded data removed]",
      "text/plain": [
       "<Figure size 432x288 with 1 Axes>"
      ]
     },
     "metadata": {
      "needs_background": "light"
     },
     "output_type": "display_data"
    }
   ],
   "source": [
    "df_curve['Curve'].plot()"
   ]
  },
  {
   "cell_type": "markdown",
   "id": "1a3dc66c",
   "metadata": {},
   "source": [
    "Currnt TVL is close to $19B across all chains. An absolute staggering amount! Making it one of the leading DeFi apps and the biggest DEX. Due to its scale this is why protocols desire to make their stablecoins have more liquidity and volume on Curve as it helps their overall adaption"
   ]
  },
  {
   "cell_type": "code",
   "execution_count": 221,
   "id": "9ce0139f",
   "metadata": {},
   "outputs": [
    {
     "name": "stdout",
     "output_type": "stream",
     "text": [
      "19487744399.7121\n"
     ]
    }
   ],
   "source": [
    "print(df_curve['Curve'].iloc[-1])"
   ]
  },
  {
   "cell_type": "markdown",
   "id": "aae61b97",
   "metadata": {},
   "source": [
    "Curve just on ETH"
   ]
  },
  {
   "cell_type": "code",
   "execution_count": 222,
   "id": "a76dcd1b",
   "metadata": {},
   "outputs": [
    {
     "name": "stdout",
     "output_type": "stream",
     "text": [
      "16838618137.6412\n"
     ]
    }
   ],
   "source": [
    "print(df_curve['Curve-ETH'].iloc[-1])"
   ]
  },
  {
   "cell_type": "markdown",
   "id": "2a00f326",
   "metadata": {},
   "source": [
    "% of Curve's TVL on Ethereum"
   ]
  },
  {
   "cell_type": "code",
   "execution_count": 223,
   "id": "0056b2dc",
   "metadata": {
    "scrolled": true
   },
   "outputs": [
    {
     "name": "stdout",
     "output_type": "stream",
     "text": [
      "86.40619351457607%\n"
     ]
    }
   ],
   "source": [
    "print(str(df_curve['Curve-ETH'].iloc[-1] / df_curve['Curve'].iloc[-1] * 100) + '%')"
   ]
  },
  {
   "cell_type": "markdown",
   "id": "5630cdd9",
   "metadata": {},
   "source": [
    "Majority of Curve's TVL still comes from ETH, but I imagine due to Ethereum's gas fees the rise in Curve's TVL across other protocols will rise as well"
   ]
  },
  {
   "cell_type": "markdown",
   "id": "91e35cd6",
   "metadata": {},
   "source": [
    "### TVL for Convex"
   ]
  },
  {
   "cell_type": "code",
   "execution_count": 224,
   "id": "c89faf78",
   "metadata": {
    "scrolled": true
   },
   "outputs": [
    {
     "data": {
      "text/plain": [
       "<AxesSubplot:>"
      ]
     },
     "execution_count": 224,
     "metadata": {},
     "output_type": "execute_result"
    },
    {
     "data": {
      "image/png": "[encoded data removed]",
      "text/plain": [
       "<Figure size 432x288 with 1 Axes>"
      ]
     },
     "metadata": {
      "needs_background": "light"
     },
     "output_type": "display_data"
    }
   ],
   "source": [
    "df_convex['Convex Finance'].plot()"
   ]
  },
  {
   "cell_type": "markdown",
   "id": "01870e83",
   "metadata": {},
   "source": [
    "As of right now, Convex is just on Ethereum"
   ]
  },
  {
   "cell_type": "code",
   "execution_count": 225,
   "id": "288b2be1",
   "metadata": {},
   "outputs": [
    {
     "name": "stdout",
     "output_type": "stream",
     "text": [
      "13501863055.909\n"
     ]
    }
   ],
   "source": [
    "print(df_convex['Convex Finance'].iloc[-1])"
   ]
  },
  {
   "cell_type": "markdown",
   "id": "1c6e8a35",
   "metadata": {},
   "source": [
    "Comparison of Ratio of Convex to Curve TVL overtime"
   ]
  },
  {
   "cell_type": "code",
   "execution_count": 226,
   "id": "85c1e320",
   "metadata": {
    "scrolled": true
   },
   "outputs": [
    {
     "data": {
      "text/plain": [
       "<AxesSubplot:>"
      ]
     },
     "execution_count": 226,
     "metadata": {},
     "output_type": "execute_result"
    },
    {
     "data": {
      "image/png": "[encoded data removed]",
      "text/plain": [
       "<Figure size 432x288 with 1 Axes>"
      ]
     },
     "metadata": {
      "needs_background": "light"
     },
     "output_type": "display_data"
    }
   ],
   "source": [
    "cvx_crv = df_convex[['Date','Convex Finance']].merge(df_curve[['Date','Curve']],on ='Date')\n",
    "cvx_crv['Ratio'] = cvx_crv['Convex Finance'] / cvx_crv['Curve']\n",
    "cvx_crv['Ratio'].plot()"
   ]
  },
  {
   "cell_type": "code",
   "execution_count": 227,
   "id": "a4654005",
   "metadata": {},
   "outputs": [
    {
     "data": {
      "text/plain": [
       "0      0.007831\n",
       "1      0.007858\n",
       "2      0.028016\n",
       "3      0.024647\n",
       "4      0.028580\n",
       "         ...   \n",
       "273    0.685770\n",
       "274    0.687974\n",
       "275    0.691772\n",
       "276    0.690130\n",
       "277    0.692839\n",
       "Name: Ratio, Length: 278, dtype: float64"
      ]
     },
     "execution_count": 227,
     "metadata": {},
     "output_type": "execute_result"
    }
   ],
   "source": [
    "cvx_crv['Ratio']"
   ]
  },
  {
   "cell_type": "markdown",
   "id": "3da2a2c0",
   "metadata": {},
   "source": [
    "While Curve has has had a large head start, Convex has been rapidly catching up. In less than a year Convex has gone from 0 to .69 and has also become one of the largest players in the Defi Eccosystem! Convex's rise in power is thanks in part due to the power of its boosted pools that offer the max amount of rewards you would be able to get due to Convex's influence on Curve"
   ]
  },
  {
   "cell_type": "markdown",
   "id": "1ed328d8",
   "metadata": {},
   "source": [
    "#### Creating additional features for percent change, cumulative %, and the curve TVL not on Ethereum"
   ]
  },
  {
   "cell_type": "code",
   "execution_count": 228,
   "id": "79d33331",
   "metadata": {},
   "outputs": [],
   "source": [
    "#df_convex['Date'] = pd.to_datetime(df_convex['Date'])\n",
    "df_convex['Daily % Change'] = df_convex['Convex Finance'].pct_change()\n",
    "#df_curve['Date'] = pd.to_datetime(df_curve['Date'])\n",
    "df_curve['Daily % Change'] = df_curve['Curve'].pct_change()\n",
    "df_curve['Cumulative Sum %'] = df_curve['Daily % Change'].cumsum()\n",
    "df_convex['Cumulative Sum %'] = df_convex['Daily % Change'].cumsum()\n",
    "df_curve['Non ETH Curve TVL'] = df_curve['Curve'] - df_curve['Curve-ETH']\n",
    "crv = df_convex[['Date','Convex Finance']].merge(df_curve[['Date','Curve','Daily % Change','Cumulative Sum %']],on ='Date')"
   ]
  },
  {
   "cell_type": "markdown",
   "id": "6a8a2d0d",
   "metadata": {},
   "source": [
    "## Daily % Change for Convex"
   ]
  },
  {
   "cell_type": "code",
   "execution_count": 229,
   "id": "8d660c66",
   "metadata": {
    "scrolled": true
   },
   "outputs": [
    {
     "data": {
      "text/plain": [
       "<AxesSubplot:>"
      ]
     },
     "execution_count": 229,
     "metadata": {},
     "output_type": "execute_result"
    },
    {
     "data": {
      "image/png": "[encoded data removed]",
      "text/plain": [
       "<Figure size 432x288 with 1 Axes>"
      ]
     },
     "metadata": {
      "needs_background": "light"
     },
     "output_type": "display_data"
    }
   ],
   "source": [
    "df_convex['Daily % Change'].plot()"
   ]
  },
  {
   "cell_type": "markdown",
   "id": "abad8115",
   "metadata": {},
   "source": [
    "# Daily % Change for Curve since Convex launch"
   ]
  },
  {
   "cell_type": "code",
   "execution_count": 230,
   "id": "42e8fd0a",
   "metadata": {},
   "outputs": [
    {
     "data": {
      "text/plain": [
       "<AxesSubplot:>"
      ]
     },
     "execution_count": 230,
     "metadata": {},
     "output_type": "execute_result"
    },
    {
     "data": {
      "image/png": "[encoded data removed]",
      "text/plain": [
       "<Figure size 432x288 with 1 Axes>"
      ]
     },
     "metadata": {
      "needs_background": "light"
     },
     "output_type": "display_data"
    }
   ],
   "source": [
    "crv['Daily % Change'].plot()"
   ]
  },
  {
   "cell_type": "markdown",
   "id": "93fbe9fc",
   "metadata": {},
   "source": [
    "Overall Statistics for % change for Convex + Histogram"
   ]
  },
  {
   "cell_type": "code",
   "execution_count": 231,
   "id": "199fbefa",
   "metadata": {},
   "outputs": [
    {
     "data": {
      "text/plain": [
       "count    277.000000\n",
       "mean       0.024399\n",
       "std        0.135332\n",
       "min       -0.169795\n",
       "25%       -0.006599\n",
       "50%        0.010853\n",
       "75%        0.025910\n",
       "max        1.874028\n",
       "Name: Daily % Change, dtype: float64"
      ]
     },
     "execution_count": 231,
     "metadata": {},
     "output_type": "execute_result"
    }
   ],
   "source": [
    "df_convex['Daily % Change'].describe()"
   ]
  },
  {
   "cell_type": "code",
   "execution_count": 232,
   "id": "10bc7292",
   "metadata": {
    "scrolled": true
   },
   "outputs": [
    {
     "data": {
      "text/plain": [
       "<AxesSubplot:>"
      ]
     },
     "execution_count": 232,
     "metadata": {},
     "output_type": "execute_result"
    },
    {
     "data": {
      "image/png": "[encoded data removed]",
      "text/plain": [
       "<Figure size 432x288 with 1 Axes>"
      ]
     },
     "metadata": {
      "needs_background": "light"
     },
     "output_type": "display_data"
    }
   ],
   "source": [
    "df_convex['Daily % Change'].hist()"
   ]
  },
  {
   "cell_type": "markdown",
   "id": "49a8cb13",
   "metadata": {},
   "source": [
    "Overall Statistics for % change for Convex + Histogram"
   ]
  },
  {
   "cell_type": "code",
   "execution_count": 233,
   "id": "847b8710",
   "metadata": {},
   "outputs": [
    {
     "data": {
      "text/plain": [
       "count    278.000000\n",
       "mean       0.003444\n",
       "std        0.030056\n",
       "min       -0.193855\n",
       "25%       -0.008624\n",
       "50%        0.005122\n",
       "75%        0.019845\n",
       "max        0.103734\n",
       "Name: Daily % Change, dtype: float64"
      ]
     },
     "execution_count": 233,
     "metadata": {},
     "output_type": "execute_result"
    }
   ],
   "source": [
    "crv['Daily % Change'].describe()"
   ]
  },
  {
   "cell_type": "code",
   "execution_count": 234,
   "id": "276bb8ef",
   "metadata": {},
   "outputs": [
    {
     "data": {
      "text/plain": [
       "<AxesSubplot:>"
      ]
     },
     "execution_count": 234,
     "metadata": {},
     "output_type": "execute_result"
    },
    {
     "data": {
      "image/png": "[encoded data removed]",
      "text/plain": [
       "<Figure size 432x288 with 1 Axes>"
      ]
     },
     "metadata": {
      "needs_background": "light"
     },
     "output_type": "display_data"
    }
   ],
   "source": [
    "crv['Daily % Change'].hist()"
   ]
  },
  {
   "cell_type": "markdown",
   "id": "44a84d90",
   "metadata": {},
   "source": [
    "After comparing the two TVLs since Convex's we can see that Curves % change in TVL (since its bigger and more established this makes sense). Convex has been much more only an average daily change of .3% where Convex has seen a daily increase of 2.5% (probably in part due to the large increases in the begininng) To double check this we will look at both the median's for TVL"
   ]
  },
  {
   "cell_type": "code",
   "execution_count": 235,
   "id": "c0f7702e",
   "metadata": {},
   "outputs": [
    {
     "name": "stdout",
     "output_type": "stream",
     "text": [
      "0.005122278635944277\n"
     ]
    }
   ],
   "source": [
    "print(crv['Daily % Change'].median())"
   ]
  },
  {
   "cell_type": "code",
   "execution_count": 236,
   "id": "81c4d7f9",
   "metadata": {},
   "outputs": [
    {
     "name": "stdout",
     "output_type": "stream",
     "text": [
      "0.010852938910896226\n"
     ]
    }
   ],
   "source": [
    "print(df_convex['Daily % Change'].median())"
   ]
  },
  {
   "cell_type": "markdown",
   "id": "a36c4bde",
   "metadata": {},
   "source": [
    "So this actually wasnt the case! Further analysis may be needed here!"
   ]
  },
  {
   "cell_type": "markdown",
   "id": "e2c474c0",
   "metadata": {},
   "source": [
    "### Convex % TVL since Launch"
   ]
  },
  {
   "cell_type": "markdown",
   "id": "0dfe0281",
   "metadata": {},
   "source": [
    "Convex has seen an 700% + increase in TVL since launch! It will be absolute amazing to see where it goes by the end of the year"
   ]
  },
  {
   "cell_type": "code",
   "execution_count": 237,
   "id": "e694d742",
   "metadata": {},
   "outputs": [
    {
     "name": "stdout",
     "output_type": "stream",
     "text": [
      "717.4949297855013%\n"
     ]
    }
   ],
   "source": [
    "print(str(df_convex['Cumulative Sum %'].max() * 100) + '%')"
   ]
  },
  {
   "cell_type": "markdown",
   "id": "1e101b57",
   "metadata": {},
   "source": [
    "## Curve % TVL increase since Launch "
   ]
  },
  {
   "cell_type": "markdown",
   "id": "70a600e9",
   "metadata": {},
   "source": [
    "In that same time frame Curve, has had a bigger inrease in overall TVL"
   ]
  },
  {
   "cell_type": "code",
   "execution_count": 238,
   "id": "025d5cc1",
   "metadata": {},
   "outputs": [
    {
     "name": "stdout",
     "output_type": "stream",
     "text": [
      "2238.5049769372163%\n"
     ]
    }
   ],
   "source": [
    "print(str(crv['Cumulative Sum %'].max() * 100) + '%')"
   ]
  },
  {
   "cell_type": "markdown",
   "id": "1b48d9bd",
   "metadata": {},
   "source": [
    "# TVL Correlation Calculations for Curve, Convex, and Other DeFi Platforms"
   ]
  },
  {
   "cell_type": "markdown",
   "id": "4ead3677",
   "metadata": {},
   "source": [
    "In this section we will now be answering the question, does the TVL for Convex and Correlate correlate and is it statistically significant?\n",
    "How does this compare to other DeFi platforms (since crypto prices tend to correlate pretty strongly)"
   ]
  },
  {
   "cell_type": "code",
   "execution_count": 239,
   "id": "ec413926",
   "metadata": {},
   "outputs": [],
   "source": [
    "#Merging all the dataframes together"
   ]
  },
  {
   "cell_type": "code",
   "execution_count": 240,
   "id": "723d201f",
   "metadata": {},
   "outputs": [
    {
     "data": {
      "text/html": [
       "<div>\n",
       "<style scoped>\n",
       "    .dataframe tbody tr th:only-of-type {\n",
       "        vertical-align: middle;\n",
       "    }\n",
       "\n",
       "    .dataframe tbody tr th {\n",
       "        vertical-align: top;\n",
       "    }\n",
       "\n",
       "    .dataframe thead th {\n",
       "        text-align: right;\n",
       "    }\n",
       "</style>\n",
       "<table border=\"1\" class=\"dataframe\">\n",
       "  <thead>\n",
       "    <tr style=\"text-align: right;\">\n",
       "      <th></th>\n",
       "      <th>Date</th>\n",
       "      <th>Convex Finance</th>\n",
       "      <th>Curve</th>\n",
       "      <th>AAVE</th>\n",
       "      <th>Uniswap</th>\n",
       "      <th>Compound</th>\n",
       "      <th>Yearn Finance</th>\n",
       "      <th>MakerDAO</th>\n",
       "    </tr>\n",
       "  </thead>\n",
       "  <tbody>\n",
       "    <tr>\n",
       "      <th>0</th>\n",
       "      <td>17/05/2021</td>\n",
       "      <td>6.887735e+07</td>\n",
       "      <td>8.795680e+09</td>\n",
       "      <td>1.211907e+10</td>\n",
       "      <td>9.127791e+09</td>\n",
       "      <td>1.100628e+10</td>\n",
       "      <td>4.351555e+09</td>\n",
       "      <td>1.483094e+10</td>\n",
       "    </tr>\n",
       "    <tr>\n",
       "      <th>1</th>\n",
       "      <td>18/05/2021</td>\n",
       "      <td>7.133614e+07</td>\n",
       "      <td>9.077859e+09</td>\n",
       "      <td>1.166424e+10</td>\n",
       "      <td>8.402541e+09</td>\n",
       "      <td>1.045659e+10</td>\n",
       "      <td>4.463577e+09</td>\n",
       "      <td>1.390149e+10</td>\n",
       "    </tr>\n",
       "    <tr>\n",
       "      <th>2</th>\n",
       "      <td>19/05/2021</td>\n",
       "      <td>2.050221e+08</td>\n",
       "      <td>7.318067e+09</td>\n",
       "      <td>1.224839e+10</td>\n",
       "      <td>8.719646e+09</td>\n",
       "      <td>1.057647e+10</td>\n",
       "      <td>3.745968e+09</td>\n",
       "      <td>1.404455e+10</td>\n",
       "    </tr>\n",
       "    <tr>\n",
       "      <th>3</th>\n",
       "      <td>20/05/2021</td>\n",
       "      <td>1.905626e+08</td>\n",
       "      <td>7.731759e+09</td>\n",
       "      <td>1.047952e+10</td>\n",
       "      <td>6.652654e+09</td>\n",
       "      <td>8.822460e+09</td>\n",
       "      <td>3.640799e+09</td>\n",
       "      <td>1.068264e+10</td>\n",
       "    </tr>\n",
       "    <tr>\n",
       "      <th>4</th>\n",
       "      <td>21/05/2021</td>\n",
       "      <td>2.030479e+08</td>\n",
       "      <td>7.104447e+09</td>\n",
       "      <td>1.069600e+10</td>\n",
       "      <td>7.377833e+09</td>\n",
       "      <td>8.789298e+09</td>\n",
       "      <td>3.401390e+09</td>\n",
       "      <td>1.144389e+10</td>\n",
       "    </tr>\n",
       "    <tr>\n",
       "      <th>...</th>\n",
       "      <td>...</td>\n",
       "      <td>...</td>\n",
       "      <td>...</td>\n",
       "      <td>...</td>\n",
       "      <td>...</td>\n",
       "      <td>...</td>\n",
       "      <td>...</td>\n",
       "      <td>...</td>\n",
       "    </tr>\n",
       "    <tr>\n",
       "      <th>271</th>\n",
       "      <td>13/02/2022</td>\n",
       "      <td>1.350575e+10</td>\n",
       "      <td>1.962439e+10</td>\n",
       "      <td>1.340312e+10</td>\n",
       "      <td>7.334807e+09</td>\n",
       "      <td>7.138573e+09</td>\n",
       "      <td>4.183381e+09</td>\n",
       "      <td>1.691217e+10</td>\n",
       "    </tr>\n",
       "    <tr>\n",
       "      <th>272</th>\n",
       "      <td>14/02/2022</td>\n",
       "      <td>1.340566e+10</td>\n",
       "      <td>1.954831e+10</td>\n",
       "      <td>1.330466e+10</td>\n",
       "      <td>7.245382e+09</td>\n",
       "      <td>6.983897e+09</td>\n",
       "      <td>4.183381e+09</td>\n",
       "      <td>1.684003e+10</td>\n",
       "    </tr>\n",
       "    <tr>\n",
       "      <th>273</th>\n",
       "      <td>15/02/2022</td>\n",
       "      <td>1.336981e+10</td>\n",
       "      <td>1.943360e+10</td>\n",
       "      <td>1.326397e+10</td>\n",
       "      <td>7.358130e+09</td>\n",
       "      <td>7.054297e+09</td>\n",
       "      <td>4.179206e+09</td>\n",
       "      <td>1.696476e+10</td>\n",
       "    </tr>\n",
       "    <tr>\n",
       "      <th>274</th>\n",
       "      <td>16/02/2022</td>\n",
       "      <td>1.375010e+10</td>\n",
       "      <td>1.987663e+10</td>\n",
       "      <td>1.377203e+10</td>\n",
       "      <td>7.783955e+09</td>\n",
       "      <td>7.543162e+09</td>\n",
       "      <td>4.173156e+09</td>\n",
       "      <td>1.790344e+10</td>\n",
       "    </tr>\n",
       "    <tr>\n",
       "      <th>275</th>\n",
       "      <td>17/02/2022</td>\n",
       "      <td>1.370827e+10</td>\n",
       "      <td>1.986333e+10</td>\n",
       "      <td>1.357224e+10</td>\n",
       "      <td>7.836969e+09</td>\n",
       "      <td>7.504268e+09</td>\n",
       "      <td>4.179206e+09</td>\n",
       "      <td>1.768059e+10</td>\n",
       "    </tr>\n",
       "  </tbody>\n",
       "</table>\n",
       "<p>276 rows × 8 columns</p>\n",
       "</div>"
      ],
      "text/plain": [
       "           Date  Convex Finance         Curve          AAVE       Uniswap  \\\n",
       "0    17/05/2021    6.887735e+07  8.795680e+09  1.211907e+10  9.127791e+09   \n",
       "1    18/05/2021    7.133614e+07  9.077859e+09  1.166424e+10  8.402541e+09   \n",
       "2    19/05/2021    2.050221e+08  7.318067e+09  1.224839e+10  8.719646e+09   \n",
       "3    20/05/2021    1.905626e+08  7.731759e+09  1.047952e+10  6.652654e+09   \n",
       "4    21/05/2021    2.030479e+08  7.104447e+09  1.069600e+10  7.377833e+09   \n",
       "..          ...             ...           ...           ...           ...   \n",
       "271  13/02/2022    1.350575e+10  1.962439e+10  1.340312e+10  7.334807e+09   \n",
       "272  14/02/2022    1.340566e+10  1.954831e+10  1.330466e+10  7.245382e+09   \n",
       "273  15/02/2022    1.336981e+10  1.943360e+10  1.326397e+10  7.358130e+09   \n",
       "274  16/02/2022    1.375010e+10  1.987663e+10  1.377203e+10  7.783955e+09   \n",
       "275  17/02/2022    1.370827e+10  1.986333e+10  1.357224e+10  7.836969e+09   \n",
       "\n",
       "         Compound  Yearn Finance      MakerDAO  \n",
       "0    1.100628e+10   4.351555e+09  1.483094e+10  \n",
       "1    1.045659e+10   4.463577e+09  1.390149e+10  \n",
       "2    1.057647e+10   3.745968e+09  1.404455e+10  \n",
       "3    8.822460e+09   3.640799e+09  1.068264e+10  \n",
       "4    8.789298e+09   3.401390e+09  1.144389e+10  \n",
       "..            ...            ...           ...  \n",
       "271  7.138573e+09   4.183381e+09  1.691217e+10  \n",
       "272  6.983897e+09   4.183381e+09  1.684003e+10  \n",
       "273  7.054297e+09   4.179206e+09  1.696476e+10  \n",
       "274  7.543162e+09   4.173156e+09  1.790344e+10  \n",
       "275  7.504268e+09   4.179206e+09  1.768059e+10  \n",
       "\n",
       "[276 rows x 8 columns]"
      ]
     },
     "execution_count": 240,
     "metadata": {},
     "output_type": "execute_result"
    }
   ],
   "source": [
    "df_total = df_convex[['Date','Convex Finance']].merge(df_curve[['Date','Curve']], on = 'Date').merge(df_aave[['Date','AAVE']], on = 'Date').merge(df_uniswap[['Date','Uniswap']], on = 'Date').merge(df_compound[['Date','Compound']], on = 'Date').merge(df_yearn[['Date','Yearn Finance']], on = 'Date').merge(df_maker[['Date','MakerDAO']], on = 'Date')\n",
    "\n",
    "df_total"
   ]
  },
  {
   "cell_type": "code",
   "execution_count": 241,
   "id": "2c16e25a",
   "metadata": {
    "scrolled": true
   },
   "outputs": [
    {
     "data": {
      "text/html": [
       "<div>\n",
       "<style scoped>\n",
       "    .dataframe tbody tr th:only-of-type {\n",
       "        vertical-align: middle;\n",
       "    }\n",
       "\n",
       "    .dataframe tbody tr th {\n",
       "        vertical-align: top;\n",
       "    }\n",
       "\n",
       "    .dataframe thead th {\n",
       "        text-align: right;\n",
       "    }\n",
       "</style>\n",
       "<table border=\"1\" class=\"dataframe\">\n",
       "  <thead>\n",
       "    <tr style=\"text-align: right;\">\n",
       "      <th></th>\n",
       "      <th>Convex Finance</th>\n",
       "      <th>Curve</th>\n",
       "      <th>AAVE</th>\n",
       "      <th>Uniswap</th>\n",
       "      <th>Compound</th>\n",
       "      <th>Yearn Finance</th>\n",
       "      <th>MakerDAO</th>\n",
       "    </tr>\n",
       "  </thead>\n",
       "  <tbody>\n",
       "    <tr>\n",
       "      <th>Convex Finance</th>\n",
       "      <td>1.000000</td>\n",
       "      <td>0.992441</td>\n",
       "      <td>0.599994</td>\n",
       "      <td>0.679452</td>\n",
       "      <td>0.128558</td>\n",
       "      <td>0.441056</td>\n",
       "      <td>0.914526</td>\n",
       "    </tr>\n",
       "    <tr>\n",
       "      <th>Curve</th>\n",
       "      <td>0.992441</td>\n",
       "      <td>1.000000</td>\n",
       "      <td>0.638531</td>\n",
       "      <td>0.717005</td>\n",
       "      <td>0.152803</td>\n",
       "      <td>0.486641</td>\n",
       "      <td>0.939714</td>\n",
       "    </tr>\n",
       "    <tr>\n",
       "      <th>AAVE</th>\n",
       "      <td>0.599994</td>\n",
       "      <td>0.638531</td>\n",
       "      <td>1.000000</td>\n",
       "      <td>0.812066</td>\n",
       "      <td>0.680248</td>\n",
       "      <td>0.742819</td>\n",
       "      <td>0.733516</td>\n",
       "    </tr>\n",
       "    <tr>\n",
       "      <th>Uniswap</th>\n",
       "      <td>0.679452</td>\n",
       "      <td>0.717005</td>\n",
       "      <td>0.812066</td>\n",
       "      <td>1.000000</td>\n",
       "      <td>0.683120</td>\n",
       "      <td>0.777618</td>\n",
       "      <td>0.862379</td>\n",
       "    </tr>\n",
       "    <tr>\n",
       "      <th>Compound</th>\n",
       "      <td>0.128558</td>\n",
       "      <td>0.152803</td>\n",
       "      <td>0.680248</td>\n",
       "      <td>0.683120</td>\n",
       "      <td>1.000000</td>\n",
       "      <td>0.726448</td>\n",
       "      <td>0.327428</td>\n",
       "    </tr>\n",
       "    <tr>\n",
       "      <th>Yearn Finance</th>\n",
       "      <td>0.441056</td>\n",
       "      <td>0.486641</td>\n",
       "      <td>0.742819</td>\n",
       "      <td>0.777618</td>\n",
       "      <td>0.726448</td>\n",
       "      <td>1.000000</td>\n",
       "      <td>0.600181</td>\n",
       "    </tr>\n",
       "    <tr>\n",
       "      <th>MakerDAO</th>\n",
       "      <td>0.914526</td>\n",
       "      <td>0.939714</td>\n",
       "      <td>0.733516</td>\n",
       "      <td>0.862379</td>\n",
       "      <td>0.327428</td>\n",
       "      <td>0.600181</td>\n",
       "      <td>1.000000</td>\n",
       "    </tr>\n",
       "  </tbody>\n",
       "</table>\n",
       "</div>"
      ],
      "text/plain": [
       "                Convex Finance     Curve      AAVE   Uniswap  Compound  \\\n",
       "Convex Finance        1.000000  0.992441  0.599994  0.679452  0.128558   \n",
       "Curve                 0.992441  1.000000  0.638531  0.717005  0.152803   \n",
       "AAVE                  0.599994  0.638531  1.000000  0.812066  0.680248   \n",
       "Uniswap               0.679452  0.717005  0.812066  1.000000  0.683120   \n",
       "Compound              0.128558  0.152803  0.680248  0.683120  1.000000   \n",
       "Yearn Finance         0.441056  0.486641  0.742819  0.777618  0.726448   \n",
       "MakerDAO              0.914526  0.939714  0.733516  0.862379  0.327428   \n",
       "\n",
       "                Yearn Finance  MakerDAO  \n",
       "Convex Finance       0.441056  0.914526  \n",
       "Curve                0.486641  0.939714  \n",
       "AAVE                 0.742819  0.733516  \n",
       "Uniswap              0.777618  0.862379  \n",
       "Compound             0.726448  0.327428  \n",
       "Yearn Finance        1.000000  0.600181  \n",
       "MakerDAO             0.600181  1.000000  "
      ]
     },
     "execution_count": 241,
     "metadata": {},
     "output_type": "execute_result"
    }
   ],
   "source": [
    "corr = df_total.corr()\n",
    "corr"
   ]
  },
  {
   "cell_type": "markdown",
   "id": "8b022895",
   "metadata": {},
   "source": [
    "So the correlation for TVL is a whopping .99! This is a very strong correlation for TVL!! This makes sense due to the strong relationship both share. The next highest correlation is also with Convex and MakerDAO. Is this due to both of their parts in Curve Wars? Suprisingly some of the DeFi apps do not have a very strong correlation (Compound - MakerDAO, Compound - Convex, Yearn-Convex)"
   ]
  },
  {
   "cell_type": "code",
   "execution_count": 242,
   "id": "a8817496",
   "metadata": {},
   "outputs": [
    {
     "data": {
      "text/plain": [
       "<AxesSubplot:>"
      ]
     },
     "execution_count": 242,
     "metadata": {},
     "output_type": "execute_result"
    },
    {
     "data": {
      "image/png": "[encoded data removed]",
      "text/plain": [
       "<Figure size 432x288 with 1 Axes>"
      ]
     },
     "metadata": {
      "needs_background": "light"
     },
     "output_type": "display_data"
    }
   ],
   "source": [
    "convex_corr = corr['Convex Finance']\n",
    "convex_corr.plot.bar()"
   ]
  },
  {
   "cell_type": "code",
   "execution_count": null,
   "id": "8e190473",
   "metadata": {
    "scrolled": true
   },
   "outputs": [],
   "source": []
  },
  {
   "cell_type": "code",
   "execution_count": 243,
   "id": "d9839205",
   "metadata": {},
   "outputs": [],
   "source": [
    "#Printing Output files"
   ]
  },
  {
   "cell_type": "code",
   "execution_count": 244,
   "id": "44c5dc2a",
   "metadata": {},
   "outputs": [],
   "source": [
    "df_curve.to_csv('Curve Clean.csv')\n",
    "df_convex.to_csv('Convex Clean.csv')\n",
    "corr.to_csv('Correlation in Defi.csv')"
   ]
  }
 ],
 "metadata": {
  "kernelspec": {
   "display_name": "Python 3",
   "language": "python",
   "name": "python3"
  },
  "language_info": {
   "codemirror_mode": {
    "name": "ipython",
    "version": 3
   },
   "file_extension": ".py",
   "mimetype": "text/x-python",
   "name": "python",
   "nbconvert_exporter": "python",
   "pygments_lexer": "ipython3",
   "version": "3.8.8"
  }
 },
 "nbformat": 4,
 "nbformat_minor": 5
}
