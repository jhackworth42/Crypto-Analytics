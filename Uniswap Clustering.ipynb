{
 "cells": [
  {
   "cell_type": "code",
   "execution_count": 2,
   "metadata": {},
   "outputs": [],
   "source": [
    "import pandas as pd\n",
    "import matplotlib.pyplot as plt\n",
    "import seaborn as sns\n",
    "from sklearn.preprocessing import MinMaxScaler\n",
    "from datetime import date\n",
    "from sklearn.cluster import KMeans\n",
    "import time\n",
    "from datetime import datetime\n",
    "import numpy as np\n",
    "sns.set_theme()"
   ]
  },
  {
   "cell_type": "code",
   "execution_count": 3,
   "metadata": {},
   "outputs": [],
   "source": [
    "api_string = 'https://api.flipsidecrypto.com/api/v2/queries/77aaf8f7-9d76-4e9e-8792-4fae5dedca92/data/latest'\n",
    "df = pd.read_json(api_string)"
   ]
  },
  {
   "cell_type": "code",
   "execution_count": 4,
   "metadata": {
    "scrolled": false
   },
   "outputs": [
    {
     "name": "stdout",
     "output_type": "stream",
     "text": [
      "Time length of dataset: 20 days 01:24:29\n"
     ]
    },
    {
     "data": {
      "text/html": [
       "<div>\n",
       "<style scoped>\n",
       "    .dataframe tbody tr th:only-of-type {\n",
       "        vertical-align: middle;\n",
       "    }\n",
       "\n",
       "    .dataframe tbody tr th {\n",
       "        vertical-align: top;\n",
       "    }\n",
       "\n",
       "    .dataframe thead th {\n",
       "        text-align: right;\n",
       "    }\n",
       "</style>\n",
       "<table border=\"1\" class=\"dataframe\">\n",
       "  <thead>\n",
       "    <tr style=\"text-align: right;\">\n",
       "      <th></th>\n",
       "      <th># of Trades</th>\n",
       "      <th>Time Since Last Trade</th>\n",
       "      <th>Total Amount Swapped</th>\n",
       "      <th>first</th>\n",
       "      <th>wallet</th>\n",
       "    </tr>\n",
       "  </thead>\n",
       "  <tbody>\n",
       "    <tr>\n",
       "      <th>0</th>\n",
       "      <td>2</td>\n",
       "      <td>1</td>\n",
       "      <td>1160.845091</td>\n",
       "      <td>2022-04-07 22:36:38</td>\n",
       "      <td>0x391169d848bd7081bb9f19b8a95b7d12601bb22f</td>\n",
       "    </tr>\n",
       "    <tr>\n",
       "      <th>1</th>\n",
       "      <td>1</td>\n",
       "      <td>1</td>\n",
       "      <td>0.438895</td>\n",
       "      <td>2022-04-07 22:35:15</td>\n",
       "      <td>0x9466ac6b633344850efaa747a537055f1a5e7a02</td>\n",
       "    </tr>\n",
       "    <tr>\n",
       "      <th>2</th>\n",
       "      <td>1</td>\n",
       "      <td>1</td>\n",
       "      <td>299.909550</td>\n",
       "      <td>2022-04-07 22:35:15</td>\n",
       "      <td>0x7b70d0586dd2f6e88bc064e6ffa8adfba0dafab2</td>\n",
       "    </tr>\n",
       "    <tr>\n",
       "      <th>3</th>\n",
       "      <td>2</td>\n",
       "      <td>1</td>\n",
       "      <td>6126.682427</td>\n",
       "      <td>2022-04-07 22:35:00</td>\n",
       "      <td>0x8bbeb99e811f40db4818d6e3f69fef9019353827</td>\n",
       "    </tr>\n",
       "    <tr>\n",
       "      <th>4</th>\n",
       "      <td>1</td>\n",
       "      <td>1</td>\n",
       "      <td>102.716773</td>\n",
       "      <td>2022-04-07 22:34:57</td>\n",
       "      <td>0x3b5c3844b471e2db95f2fec7fa3b9cbc4d2167ac</td>\n",
       "    </tr>\n",
       "    <tr>\n",
       "      <th>...</th>\n",
       "      <td>...</td>\n",
       "      <td>...</td>\n",
       "      <td>...</td>\n",
       "      <td>...</td>\n",
       "      <td>...</td>\n",
       "    </tr>\n",
       "    <tr>\n",
       "      <th>99995</th>\n",
       "      <td>1</td>\n",
       "      <td>21</td>\n",
       "      <td>542.006530</td>\n",
       "      <td>2022-03-18 21:12:14</td>\n",
       "      <td>0x40ce3002ef13172d5767f47e8f1f58a2bb868282</td>\n",
       "    </tr>\n",
       "    <tr>\n",
       "      <th>99996</th>\n",
       "      <td>1</td>\n",
       "      <td>21</td>\n",
       "      <td>78.884435</td>\n",
       "      <td>2022-03-18 21:12:14</td>\n",
       "      <td>0xcc5e6f37d060b601ad6f7b0f8fbffa5ea3ba91cb</td>\n",
       "    </tr>\n",
       "    <tr>\n",
       "      <th>99997</th>\n",
       "      <td>3</td>\n",
       "      <td>19</td>\n",
       "      <td>2438.601431</td>\n",
       "      <td>2022-03-18 21:12:14</td>\n",
       "      <td>0x8fed35a2571268dfcb1029ddd2378e247691864b</td>\n",
       "    </tr>\n",
       "    <tr>\n",
       "      <th>99998</th>\n",
       "      <td>1</td>\n",
       "      <td>21</td>\n",
       "      <td>292.533468</td>\n",
       "      <td>2022-03-18 21:12:09</td>\n",
       "      <td>0x9310eeae994bacdfdee1695ca5d6b37b7bc9a338</td>\n",
       "    </tr>\n",
       "    <tr>\n",
       "      <th>99999</th>\n",
       "      <td>7</td>\n",
       "      <td>2</td>\n",
       "      <td>718.443382</td>\n",
       "      <td>2022-03-18 21:12:09</td>\n",
       "      <td>0x441efd8c37ddec8b8751770f7dbf7fda24127232</td>\n",
       "    </tr>\n",
       "  </tbody>\n",
       "</table>\n",
       "<p>100000 rows × 5 columns</p>\n",
       "</div>"
      ],
      "text/plain": [
       "       # of Trades  Time Since Last Trade  Total Amount Swapped  \\\n",
       "0                2                      1           1160.845091   \n",
       "1                1                      1              0.438895   \n",
       "2                1                      1            299.909550   \n",
       "3                2                      1           6126.682427   \n",
       "4                1                      1            102.716773   \n",
       "...            ...                    ...                   ...   \n",
       "99995            1                     21            542.006530   \n",
       "99996            1                     21             78.884435   \n",
       "99997            3                     19           2438.601431   \n",
       "99998            1                     21            292.533468   \n",
       "99999            7                      2            718.443382   \n",
       "\n",
       "                    first                                      wallet  \n",
       "0     2022-04-07 22:36:38  0x391169d848bd7081bb9f19b8a95b7d12601bb22f  \n",
       "1     2022-04-07 22:35:15  0x9466ac6b633344850efaa747a537055f1a5e7a02  \n",
       "2     2022-04-07 22:35:15  0x7b70d0586dd2f6e88bc064e6ffa8adfba0dafab2  \n",
       "3     2022-04-07 22:35:00  0x8bbeb99e811f40db4818d6e3f69fef9019353827  \n",
       "4     2022-04-07 22:34:57  0x3b5c3844b471e2db95f2fec7fa3b9cbc4d2167ac  \n",
       "...                   ...                                         ...  \n",
       "99995 2022-03-18 21:12:14  0x40ce3002ef13172d5767f47e8f1f58a2bb868282  \n",
       "99996 2022-03-18 21:12:14  0xcc5e6f37d060b601ad6f7b0f8fbffa5ea3ba91cb  \n",
       "99997 2022-03-18 21:12:14  0x8fed35a2571268dfcb1029ddd2378e247691864b  \n",
       "99998 2022-03-18 21:12:09  0x9310eeae994bacdfdee1695ca5d6b37b7bc9a338  \n",
       "99999 2022-03-18 21:12:09  0x441efd8c37ddec8b8751770f7dbf7fda24127232  \n",
       "\n",
       "[100000 rows x 5 columns]"
      ]
     },
     "execution_count": 4,
     "metadata": {},
     "output_type": "execute_result"
    }
   ],
   "source": [
    "df['first'] = pd.to_datetime(df['first'])\n",
    "print(\"Time length of dataset: \"+ str(df['first'].max() - df['first'].min()))\n",
    "df"
   ]
  },
  {
   "cell_type": "code",
   "execution_count": null,
   "metadata": {},
   "outputs": [],
   "source": []
  },
  {
   "cell_type": "code",
   "execution_count": 5,
   "metadata": {},
   "outputs": [],
   "source": [
    "df_prep = df\n",
    "mms = MinMaxScaler()\n",
    "def to_integer(dt_time):\n",
    "    #getting current deviation from todays date\n",
    "    return (datetime.now() - dt_time).days + 1\n",
    "    #return 10000*dt_time.year + 100*dt_time.month + dt_time.day + dt_time.hour / 24 + dt_time.minute / (24 * 60)\n",
    "    \n",
    "df_prep['first'] = df_prep['first'].apply(lambda x: to_integer(x))\n",
    "df_prep['trade/day'] = df_prep['# of Trades'] / df_prep['first']\n",
    "df_prep['vol/day'] = df_prep['Total Amount Swapped'] / df_prep['first']\n",
    "df_prep = df_prep.fillna(0)\n",
    "df_scaled = df_prep\n",
    "df_scaled[['# of Trades', 'Time Since Last Trade','Total Amount Swapped','first','trade/day','vol/day']] = mms.fit_transform(df_scaled[['# of Trades', 'Time Since Last Trade','Total Amount Swapped','first','trade/day','vol/day']])"
   ]
  },
  {
   "cell_type": "code",
   "execution_count": 6,
   "metadata": {},
   "outputs": [
    {
     "data": {
      "text/html": [
       "<div>\n",
       "<style scoped>\n",
       "    .dataframe tbody tr th:only-of-type {\n",
       "        vertical-align: middle;\n",
       "    }\n",
       "\n",
       "    .dataframe tbody tr th {\n",
       "        vertical-align: top;\n",
       "    }\n",
       "\n",
       "    .dataframe thead th {\n",
       "        text-align: right;\n",
       "    }\n",
       "</style>\n",
       "<table border=\"1\" class=\"dataframe\">\n",
       "  <thead>\n",
       "    <tr style=\"text-align: right;\">\n",
       "      <th></th>\n",
       "      <th># of Trades</th>\n",
       "      <th>Time Since Last Trade</th>\n",
       "      <th>Total Amount Swapped</th>\n",
       "      <th>first</th>\n",
       "      <th>wallet</th>\n",
       "      <th>trade/day</th>\n",
       "      <th>vol/day</th>\n",
       "    </tr>\n",
       "  </thead>\n",
       "  <tbody>\n",
       "    <tr>\n",
       "      <th>0</th>\n",
       "      <td>0.001229</td>\n",
       "      <td>0.0</td>\n",
       "      <td>1.765690e-15</td>\n",
       "      <td>0.0</td>\n",
       "      <td>0x391169d848bd7081bb9f19b8a95b7d12601bb22f</td>\n",
       "      <td>0.020069</td>\n",
       "      <td>1.589121e-14</td>\n",
       "    </tr>\n",
       "    <tr>\n",
       "      <th>1</th>\n",
       "      <td>0.000000</td>\n",
       "      <td>0.0</td>\n",
       "      <td>6.675761e-19</td>\n",
       "      <td>0.0</td>\n",
       "      <td>0x9466ac6b633344850efaa747a537055f1a5e7a02</td>\n",
       "      <td>0.009790</td>\n",
       "      <td>6.008184e-18</td>\n",
       "    </tr>\n",
       "    <tr>\n",
       "      <th>2</th>\n",
       "      <td>0.000000</td>\n",
       "      <td>0.0</td>\n",
       "      <td>4.561740e-16</td>\n",
       "      <td>0.0</td>\n",
       "      <td>0x7b70d0586dd2f6e88bc064e6ffa8adfba0dafab2</td>\n",
       "      <td>0.009790</td>\n",
       "      <td>4.105566e-15</td>\n",
       "    </tr>\n",
       "    <tr>\n",
       "      <th>3</th>\n",
       "      <td>0.001229</td>\n",
       "      <td>0.0</td>\n",
       "      <td>9.318920e-15</td>\n",
       "      <td>0.0</td>\n",
       "      <td>0x8bbeb99e811f40db4818d6e3f69fef9019353827</td>\n",
       "      <td>0.020069</td>\n",
       "      <td>8.387028e-14</td>\n",
       "    </tr>\n",
       "    <tr>\n",
       "      <th>4</th>\n",
       "      <td>0.000000</td>\n",
       "      <td>0.0</td>\n",
       "      <td>1.562362e-16</td>\n",
       "      <td>0.0</td>\n",
       "      <td>0x3b5c3844b471e2db95f2fec7fa3b9cbc4d2167ac</td>\n",
       "      <td>0.009790</td>\n",
       "      <td>1.406125e-15</td>\n",
       "    </tr>\n",
       "  </tbody>\n",
       "</table>\n",
       "</div>"
      ],
      "text/plain": [
       "   # of Trades  Time Since Last Trade  Total Amount Swapped  first  \\\n",
       "0     0.001229                    0.0          1.765690e-15    0.0   \n",
       "1     0.000000                    0.0          6.675761e-19    0.0   \n",
       "2     0.000000                    0.0          4.561740e-16    0.0   \n",
       "3     0.001229                    0.0          9.318920e-15    0.0   \n",
       "4     0.000000                    0.0          1.562362e-16    0.0   \n",
       "\n",
       "                                       wallet  trade/day       vol/day  \n",
       "0  0x391169d848bd7081bb9f19b8a95b7d12601bb22f   0.020069  1.589121e-14  \n",
       "1  0x9466ac6b633344850efaa747a537055f1a5e7a02   0.009790  6.008184e-18  \n",
       "2  0x7b70d0586dd2f6e88bc064e6ffa8adfba0dafab2   0.009790  4.105566e-15  \n",
       "3  0x8bbeb99e811f40db4818d6e3f69fef9019353827   0.020069  8.387028e-14  \n",
       "4  0x3b5c3844b471e2db95f2fec7fa3b9cbc4d2167ac   0.009790  1.406125e-15  "
      ]
     },
     "execution_count": 6,
     "metadata": {},
     "output_type": "execute_result"
    }
   ],
   "source": [
    "df_prep.head()"
   ]
  },
  {
   "cell_type": "code",
   "execution_count": 7,
   "metadata": {
    "scrolled": false
   },
   "outputs": [
    {
     "data": {
      "text/plain": [
       "KMeans(n_clusters=3)"
      ]
     },
     "execution_count": 7,
     "metadata": {},
     "output_type": "execute_result"
    }
   ],
   "source": [
    "X = df_scaled[['# of Trades', 'Time Since Last Trade','Total Amount Swapped','first','trade/day','vol/day']]\n",
    "X = X.fillna(0)\n",
    "km = KMeans(n_clusters=3)\n",
    "km.fit(X)"
   ]
  },
  {
   "cell_type": "code",
   "execution_count": null,
   "metadata": {},
   "outputs": [],
   "source": []
  },
  {
   "cell_type": "code",
   "execution_count": 8,
   "metadata": {
    "scrolled": true
   },
   "outputs": [
    {
     "name": "stderr",
     "output_type": "stream",
     "text": [
      "C:\\Users\\jackl\\Anaconda3\\lib\\site-packages\\pandas\\core\\series.py:726: RuntimeWarning: divide by zero encountered in log2\n",
      "  result = getattr(ufunc, method)(*inputs, **kwargs)\n"
     ]
    }
   ],
   "source": [
    "label = km.predict(X)\n",
    "df['Label'] = label\n",
    "df[\"# of Trades - Log\"] = np.log2(df['# of Trades'])\n",
    "df['Total Amount Swapped - Log'] = np.log2(df['Total Amount Swapped'])"
   ]
  },
  {
   "cell_type": "code",
   "execution_count": 9,
   "metadata": {},
   "outputs": [
    {
     "data": {
      "text/plain": [
       "Text(0.5, 1.0, 'Uniswap New User Segmentation')"
      ]
     },
     "execution_count": 9,
     "metadata": {},
     "output_type": "execute_result"
    },
    {
     "data": {
      "image/png": "[encoded data removed]",
      "text/plain": [
       "<Figure size 432x288 with 1 Axes>"
      ]
     },
     "metadata": {},
     "output_type": "display_data"
    }
   ],
   "source": [
    "sns.scatterplot(x= \"# of Trades - Log\",y = 'Total Amount Swapped - Log',hue = 'Label', data = df)\n",
    "plt.title('Uniswap New User Segmentation')"
   ]
  },
  {
   "cell_type": "code",
   "execution_count": 10,
   "metadata": {
    "scrolled": true
   },
   "outputs": [
    {
     "data": {
      "text/plain": [
       "Text(0.5, 1.0, 'Uniswap New User Segmentation')"
      ]
     },
     "execution_count": 10,
     "metadata": {},
     "output_type": "execute_result"
    },
    {
     "data": {
      "image/png": "[encoded data removed]",
      "text/plain": [
       "<Figure size 432x288 with 1 Axes>"
      ]
     },
     "metadata": {},
     "output_type": "display_data"
    }
   ],
   "source": [
    "sns.scatterplot(x= '# of Trades',y = 'Total Amount Swapped',hue = 'Label', data = df)\n",
    "plt.title('Uniswap New User Segmentation')"
   ]
  },
  {
   "cell_type": "code",
   "execution_count": 11,
   "metadata": {},
   "outputs": [
    {
     "data": {
      "text/plain": [
       "Label\n",
       "0    32073\n",
       "1    32795\n",
       "2    35132\n",
       "Name: # of Trades, dtype: int64"
      ]
     },
     "execution_count": 11,
     "metadata": {},
     "output_type": "execute_result"
    }
   ],
   "source": [
    "df.groupby('Label')[\"# of Trades\"].count()"
   ]
  },
  {
   "cell_type": "markdown",
   "metadata": {},
   "source": [
    "# Mean"
   ]
  },
  {
   "cell_type": "code",
   "execution_count": 12,
   "metadata": {
    "scrolled": true
   },
   "outputs": [
    {
     "data": {
      "text/html": [
       "<div>\n",
       "<style scoped>\n",
       "    .dataframe tbody tr th:only-of-type {\n",
       "        vertical-align: middle;\n",
       "    }\n",
       "\n",
       "    .dataframe tbody tr th {\n",
       "        vertical-align: top;\n",
       "    }\n",
       "\n",
       "    .dataframe thead th {\n",
       "        text-align: right;\n",
       "    }\n",
       "</style>\n",
       "<table border=\"1\" class=\"dataframe\">\n",
       "  <thead>\n",
       "    <tr style=\"text-align: right;\">\n",
       "      <th></th>\n",
       "      <th>Time Since Last Trade</th>\n",
       "      <th>Total Amount Swapped</th>\n",
       "      <th># of Trades</th>\n",
       "    </tr>\n",
       "    <tr>\n",
       "      <th>Label</th>\n",
       "      <th></th>\n",
       "      <th></th>\n",
       "      <th></th>\n",
       "    </tr>\n",
       "  </thead>\n",
       "  <tbody>\n",
       "    <tr>\n",
       "      <th>0</th>\n",
       "      <td>16.411623</td>\n",
       "      <td>2.212560e+04</td>\n",
       "      <td>1.987778</td>\n",
       "    </tr>\n",
       "    <tr>\n",
       "      <th>1</th>\n",
       "      <td>3.391980</td>\n",
       "      <td>2.411787e+04</td>\n",
       "      <td>3.220460</td>\n",
       "    </tr>\n",
       "    <tr>\n",
       "      <th>2</th>\n",
       "      <td>8.168308</td>\n",
       "      <td>2.106725e+13</td>\n",
       "      <td>4.064300</td>\n",
       "    </tr>\n",
       "  </tbody>\n",
       "</table>\n",
       "</div>"
      ],
      "text/plain": [
       "       Time Since Last Trade  Total Amount Swapped  # of Trades\n",
       "Label                                                          \n",
       "0                  16.411623          2.212560e+04     1.987778\n",
       "1                   3.391980          2.411787e+04     3.220460\n",
       "2                   8.168308          2.106725e+13     4.064300"
      ]
     },
     "execution_count": 12,
     "metadata": {},
     "output_type": "execute_result"
    }
   ],
   "source": [
    "df.groupby('Label').aggregate({'Time Since Last Trade': 'mean',\n",
    "                             'Total Amount Swapped': 'mean',\n",
    "                              \"# of Trades\": 'mean'})"
   ]
  },
  {
   "cell_type": "markdown",
   "metadata": {},
   "source": [
    "# Median"
   ]
  },
  {
   "cell_type": "code",
   "execution_count": 13,
   "metadata": {},
   "outputs": [
    {
     "data": {
      "text/html": [
       "<div>\n",
       "<style scoped>\n",
       "    .dataframe tbody tr th:only-of-type {\n",
       "        vertical-align: middle;\n",
       "    }\n",
       "\n",
       "    .dataframe tbody tr th {\n",
       "        vertical-align: top;\n",
       "    }\n",
       "\n",
       "    .dataframe thead th {\n",
       "        text-align: right;\n",
       "    }\n",
       "</style>\n",
       "<table border=\"1\" class=\"dataframe\">\n",
       "  <thead>\n",
       "    <tr style=\"text-align: right;\">\n",
       "      <th></th>\n",
       "      <th>Time Since Last Trade</th>\n",
       "      <th>Total Amount Swapped</th>\n",
       "      <th># of Trades</th>\n",
       "    </tr>\n",
       "    <tr>\n",
       "      <th>Label</th>\n",
       "      <th></th>\n",
       "      <th></th>\n",
       "      <th></th>\n",
       "    </tr>\n",
       "  </thead>\n",
       "  <tbody>\n",
       "    <tr>\n",
       "      <th>0</th>\n",
       "      <td>16</td>\n",
       "      <td>471.394143</td>\n",
       "      <td>1</td>\n",
       "    </tr>\n",
       "    <tr>\n",
       "      <th>1</th>\n",
       "      <td>3</td>\n",
       "      <td>1016.828006</td>\n",
       "      <td>2</td>\n",
       "    </tr>\n",
       "    <tr>\n",
       "      <th>2</th>\n",
       "      <td>9</td>\n",
       "      <td>1042.331825</td>\n",
       "      <td>2</td>\n",
       "    </tr>\n",
       "  </tbody>\n",
       "</table>\n",
       "</div>"
      ],
      "text/plain": [
       "       Time Since Last Trade  Total Amount Swapped  # of Trades\n",
       "Label                                                          \n",
       "0                         16            471.394143            1\n",
       "1                          3           1016.828006            2\n",
       "2                          9           1042.331825            2"
      ]
     },
     "execution_count": 13,
     "metadata": {},
     "output_type": "execute_result"
    }
   ],
   "source": [
    "df.groupby('Label').aggregate({'Time Since Last Trade': 'median',\n",
    "                             'Total Amount Swapped': 'median',\n",
    "                              \"# of Trades\": 'median'})"
   ]
  },
  {
   "cell_type": "markdown",
   "metadata": {},
   "source": [
    "# Max"
   ]
  },
  {
   "cell_type": "code",
   "execution_count": 14,
   "metadata": {},
   "outputs": [
    {
     "data": {
      "text/html": [
       "<div>\n",
       "<style scoped>\n",
       "    .dataframe tbody tr th:only-of-type {\n",
       "        vertical-align: middle;\n",
       "    }\n",
       "\n",
       "    .dataframe tbody tr th {\n",
       "        vertical-align: top;\n",
       "    }\n",
       "\n",
       "    .dataframe thead th {\n",
       "        text-align: right;\n",
       "    }\n",
       "</style>\n",
       "<table border=\"1\" class=\"dataframe\">\n",
       "  <thead>\n",
       "    <tr style=\"text-align: right;\">\n",
       "      <th></th>\n",
       "      <th>Time Since Last Trade</th>\n",
       "      <th>Total Amount Swapped</th>\n",
       "      <th># of Trades</th>\n",
       "    </tr>\n",
       "    <tr>\n",
       "      <th>Label</th>\n",
       "      <th></th>\n",
       "      <th></th>\n",
       "      <th></th>\n",
       "    </tr>\n",
       "  </thead>\n",
       "  <tbody>\n",
       "    <tr>\n",
       "      <th>0</th>\n",
       "      <td>21</td>\n",
       "      <td>7.318066e+07</td>\n",
       "      <td>122</td>\n",
       "    </tr>\n",
       "    <tr>\n",
       "      <th>1</th>\n",
       "      <td>7</td>\n",
       "      <td>6.163896e+07</td>\n",
       "      <td>430</td>\n",
       "    </tr>\n",
       "    <tr>\n",
       "      <th>2</th>\n",
       "      <td>12</td>\n",
       "      <td>6.574456e+17</td>\n",
       "      <td>815</td>\n",
       "    </tr>\n",
       "  </tbody>\n",
       "</table>\n",
       "</div>"
      ],
      "text/plain": [
       "       Time Since Last Trade  Total Amount Swapped  # of Trades\n",
       "Label                                                          \n",
       "0                         21          7.318066e+07          122\n",
       "1                          7          6.163896e+07          430\n",
       "2                         12          6.574456e+17          815"
      ]
     },
     "execution_count": 14,
     "metadata": {},
     "output_type": "execute_result"
    }
   ],
   "source": [
    "df.groupby('Label').aggregate({'Time Since Last Trade': 'max',\n",
    "                             'Total Amount Swapped': 'max',\n",
    "                              \"# of Trades\": 'max'})"
   ]
  },
  {
   "cell_type": "markdown",
   "metadata": {},
   "source": [
    "# Min"
   ]
  },
  {
   "cell_type": "code",
   "execution_count": 15,
   "metadata": {},
   "outputs": [
    {
     "data": {
      "text/html": [
       "<div>\n",
       "<style scoped>\n",
       "    .dataframe tbody tr th:only-of-type {\n",
       "        vertical-align: middle;\n",
       "    }\n",
       "\n",
       "    .dataframe tbody tr th {\n",
       "        vertical-align: top;\n",
       "    }\n",
       "\n",
       "    .dataframe thead th {\n",
       "        text-align: right;\n",
       "    }\n",
       "</style>\n",
       "<table border=\"1\" class=\"dataframe\">\n",
       "  <thead>\n",
       "    <tr style=\"text-align: right;\">\n",
       "      <th></th>\n",
       "      <th>Time Since Last Trade</th>\n",
       "      <th>Total Amount Swapped</th>\n",
       "      <th># of Trades</th>\n",
       "    </tr>\n",
       "    <tr>\n",
       "      <th>Label</th>\n",
       "      <th></th>\n",
       "      <th></th>\n",
       "      <th></th>\n",
       "    </tr>\n",
       "  </thead>\n",
       "  <tbody>\n",
       "    <tr>\n",
       "      <th>0</th>\n",
       "      <td>8</td>\n",
       "      <td>5.905450e-15</td>\n",
       "      <td>1</td>\n",
       "    </tr>\n",
       "    <tr>\n",
       "      <th>1</th>\n",
       "      <td>1</td>\n",
       "      <td>3.826059e-14</td>\n",
       "      <td>1</td>\n",
       "    </tr>\n",
       "    <tr>\n",
       "      <th>2</th>\n",
       "      <td>1</td>\n",
       "      <td>0.000000e+00</td>\n",
       "      <td>1</td>\n",
       "    </tr>\n",
       "  </tbody>\n",
       "</table>\n",
       "</div>"
      ],
      "text/plain": [
       "       Time Since Last Trade  Total Amount Swapped  # of Trades\n",
       "Label                                                          \n",
       "0                          8          5.905450e-15            1\n",
       "1                          1          3.826059e-14            1\n",
       "2                          1          0.000000e+00            1"
      ]
     },
     "execution_count": 15,
     "metadata": {},
     "output_type": "execute_result"
    }
   ],
   "source": [
    "df.groupby('Label').aggregate({'Time Since Last Trade': 'min',\n",
    "                             'Total Amount Swapped': 'min',\n",
    "                              \"# of Trades\": 'min'})"
   ]
  },
  {
   "cell_type": "markdown",
   "metadata": {},
   "source": [
    "# Elbow Method"
   ]
  },
  {
   "cell_type": "code",
   "execution_count": 16,
   "metadata": {},
   "outputs": [
    {
     "data": {
      "text/plain": [
       "Text(0, 0.5, 'Sum of Squared Distance')"
      ]
     },
     "execution_count": 16,
     "metadata": {},
     "output_type": "execute_result"
    },
    {
     "data": {
      "image/png": "[encoded data removed]",
      "text/plain": [
       "<Figure size 432x432 with 1 Axes>"
      ]
     },
     "metadata": {},
     "output_type": "display_data"
    }
   ],
   "source": [
    "sse = []\n",
    "for k in range(1, 8):\n",
    "    km = KMeans(n_clusters=k)\n",
    "    km.fit(X)\n",
    "    sse.append(km.inertia_)\n",
    "\n",
    "plt.figure(figsize=(6, 6))\n",
    "plt.plot(range(1, 8), sse, '-o', c = 'blue')\n",
    "plt.xlabel('Count of Clusters')\n",
    "plt.ylabel('Sum of Squared Distance')"
   ]
  },
  {
   "cell_type": "code",
   "execution_count": null,
   "metadata": {},
   "outputs": [],
   "source": []
  }
 ],
 "metadata": {
  "kernelspec": {
   "display_name": "Python 3",
   "language": "python",
   "name": "python3"
  },
  "language_info": {
   "codemirror_mode": {
    "name": "ipython",
    "version": 3
   },
   "file_extension": ".py",
   "mimetype": "text/x-python",
   "name": "python",
   "nbconvert_exporter": "python",
   "pygments_lexer": "ipython3",
   "version": "3.7.9"
  }
 },
 "nbformat": 4,
 "nbformat_minor": 4
}
